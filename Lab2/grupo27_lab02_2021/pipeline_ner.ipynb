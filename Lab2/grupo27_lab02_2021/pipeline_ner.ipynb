{
 "cells": [
  {
   "cell_type": "markdown",
   "id": "pleased-container",
   "metadata": {},
   "source": [
    "# Named Entity Recognition Pipeline\n",
    "\n",
    "El pipeline toma una URL de un feed en formato RSS, obtiene el título y descripción de los artículos en el feed, detecta las NER con un modelo pre-entrenado, y las muestra ordenadas por frecuencia de aparición.\n",
    "\n",
    "### Versiones\n",
    "Probado con:\n",
    "* Almond 0.6.0\n",
    "* Ammonite 1.6.7\n",
    "* Scala library version **2.11.12** -- Copyright 2002-2017, LAMP/EPFL\n",
    "* Java 1.8.0_282\n",
    "\n",
    "Para ver más información ir a (Help -> About Scala Kernel)"
   ]
  },
  {
   "cell_type": "markdown",
   "id": "compliant-nursing",
   "metadata": {
    "tags": []
   },
   "source": [
    "## 1. Obtener texto"
   ]
  },
  {
   "cell_type": "markdown",
   "id": "important-swaziland",
   "metadata": {},
   "source": [
    "### 1.1 Importar librerías"
   ]
  },
  {
   "cell_type": "code",
   "execution_count": 1,
   "id": "automated-russian",
   "metadata": {
    "tags": []
   },
   "outputs": [
    {
     "data": {
      "text/plain": [
       "\u001b[32mimport \u001b[39m\u001b[36m$ivy.$                              \n",
       "// \"org.scala-lang.modules\" %% \"scala-xml\" % \"1.3.0\"\n",
       "\u001b[39m\n",
       "\u001b[32mimport \u001b[39m\u001b[36m$ivy.$                                        \u001b[39m"
      ]
     },
     "execution_count": 1,
     "metadata": {},
     "output_type": "execute_result"
    }
   ],
   "source": [
    "// Equivalent of adding dependencies to maven or sbt files\n",
    "// For example, to add \"org.scalaj\" %% \"scalaj-http\" % \"2.4.2\" \n",
    "import $ivy.`org.scalaj::scalaj-http:2.4.2`\n",
    "// \"org.scala-lang.modules\" %% \"scala-xml\" % \"1.3.0\"\n",
    "import $ivy.`org.scala-lang.modules::scala-xml:1.3.0`"
   ]
  },
  {
   "cell_type": "code",
   "execution_count": 2,
   "id": "composed-porter",
   "metadata": {},
   "outputs": [
    {
     "data": {
      "text/plain": [
       "\u001b[32mimport \u001b[39m\u001b[36mscalaj.http.{Http, HttpResponse}\n",
       "\u001b[39m\n",
       "\u001b[32mimport \u001b[39m\u001b[36mscala.xml.XML\u001b[39m"
      ]
     },
     "execution_count": 2,
     "metadata": {},
     "output_type": "execute_result"
    }
   ],
   "source": [
    "import scalaj.http.{Http, HttpResponse}\n",
    "import scala.xml.XML"
   ]
  },
  {
   "cell_type": "code",
   "execution_count": 3,
   "id": "ba8531fe-4f69-43ba-86e9-57e9c54e22b4",
   "metadata": {
    "tags": []
   },
   "outputs": [
    {
     "data": {
      "text/plain": [
       "\u001b[32mimport \u001b[39m\u001b[36m$ivy.$                                 \u001b[39m"
      ]
     },
     "execution_count": 3,
     "metadata": {},
     "output_type": "execute_result"
    }
   ],
   "source": [
    "import $ivy.`org.json4s::json4s-jackson:3.4.0`"
   ]
  },
  {
   "cell_type": "code",
   "execution_count": 4,
   "id": "b4996525-7604-4835-87cc-448a0a0575d0",
   "metadata": {},
   "outputs": [
    {
     "data": {
      "text/plain": [
       "\u001b[32mimport \u001b[39m\u001b[36morg.json4s.JsonDSL._\n",
       "\u001b[39m\n",
       "\u001b[32mimport \u001b[39m\u001b[36morg.json4s._\u001b[39m"
      ]
     },
     "execution_count": 4,
     "metadata": {},
     "output_type": "execute_result"
    }
   ],
   "source": [
    "import org.json4s.JsonDSL._\n",
    "import org.json4s._"
   ]
  },
  {
   "cell_type": "code",
   "execution_count": 5,
   "id": "7b5350b3-6937-4681-ba9f-8bb5f79ebf93",
   "metadata": {},
   "outputs": [
    {
     "data": {
      "text/plain": [
       "\u001b[32mimport \u001b[39m\u001b[36morg.json4s.jackson.JsonMethods._\u001b[39m"
      ]
     },
     "execution_count": 5,
     "metadata": {},
     "output_type": "execute_result"
    }
   ],
   "source": [
    "import org.json4s.jackson.JsonMethods._"
   ]
  },
  {
   "cell_type": "code",
   "execution_count": 6,
   "id": "c5423514-c437-49c9-b81e-39a6cf6c5097",
   "metadata": {},
   "outputs": [
    {
     "data": {
      "text/plain": [
       "\u001b[32mimport \u001b[39m\u001b[36mscala.util.matching.Regex\u001b[39m"
      ]
     },
     "execution_count": 6,
     "metadata": {},
     "output_type": "execute_result"
    }
   ],
   "source": [
    "import scala.util.matching.Regex"
   ]
  },
  {
   "cell_type": "code",
   "execution_count": 7,
   "id": "bdba6cc6-a89b-42a3-bb80-3e2621cbb826",
   "metadata": {},
   "outputs": [
    {
     "data": {
      "text/plain": [
       "\u001b[32mimport \u001b[39m\u001b[36mscala.collection.mutable.ArrayBuffer\u001b[39m"
      ]
     },
     "execution_count": 7,
     "metadata": {},
     "output_type": "execute_result"
    }
   ],
   "source": [
    "import scala.collection.mutable.ArrayBuffer"
   ]
  },
  {
   "cell_type": "markdown",
   "id": "interstate-painting",
   "metadata": {
    "tags": []
   },
   "source": [
    "### 1.1 Obtener el texto del RSS Feed\n",
    "\n",
    "Realizamos una consulta HTTP, que nos devuelve una instancia de HTTPResponse. Dentro del atributo `body` de la HTTPResponse, se encuentra el texto del feed en formato XML. Luego, se parsea el XML para extraer los campos `title` y `description`."
   ]
  },
  {
   "cell_type": "code",
   "execution_count": 8,
   "id": "e1ec931a-0bbd-4612-96a5-24ca5cbd54a8",
   "metadata": {},
   "outputs": [
    {
     "data": {
      "text/plain": [
       "defined \u001b[32mclass\u001b[39m \u001b[36mParseRSS\u001b[39m\n",
       "defined \u001b[32mclass\u001b[39m \u001b[36mParseJSON\u001b[39m"
      ]
     },
     "execution_count": 8,
     "metadata": {},
     "output_type": "execute_result"
    }
   ],
   "source": [
    "class ParseRSS {\n",
    "    def request(url: String): String={\n",
    "        val response: HttpResponse[String] = Http(url).timeout(connTimeoutMs = 2000, readTimeoutMs = 5000).asString\n",
    "        response.body\n",
    "    }\n",
    "    def parseURL(responsebody : String): Seq[String]={\n",
    "        val xml = XML.loadString(responsebody)\n",
    "        // Extract text from title and description\n",
    "        (xml \\\\ \"item\").map { item =>\n",
    "    ((item \\ \"title\").text +\" \" + (item \\ \"description\").text)}\n",
    "        \n",
    "    }\n",
    "    \n",
    "}\n",
    "\n",
    "class ParseJSON extends ParseRSS{\n",
    "    implicit val formats = DefaultFormats\n",
    "    override def parseURL(responsebody: String): Seq[String]={ //Cuerpo de respuesta completo\n",
    "        val pattern =\"(https?|ftp|file)://[-a-zA-Z0-9+&@#/%?=~_|!:,.;]*[-a-zA-Z0-9+&@#/%=~_|]\".r //Patron\n",
    "             //parse Reddit feed in JSON\n",
    "            val jsonString = pattern.replaceAllIn(responsebody,\"\").trim() //Cuerpo de la respuesta sin urls\n",
    "            val result = (parse(jsonString) \\ \"data\" \\ \"children\" \\ \"data\")\n",
    "    .extract[List[Map[String, Any]]] //Parses the jsonString as a List of Maps //Cuerpo de la funcion sin urls parseado en Json dentro de una [List[Map[String,Any]]]\n",
    "            val filteredmap = result.map((_.filter((t) => t._1 == \"title\" || t._1 == \"selftext\").mapValues(_.asInstanceOf[String]).values)) //Filters the map and returns only \"titles\" and \"selftexts\"\n",
    "            filteredmap.flatten.toSeq  //List[Seq[String,Any]] -(1)-> List[Seq[String,Any]] -(2)-> List[Seq[String,String]] -(3)-> List[Seq[String]] -(4)-> Seq[String]\n",
    "    }\n",
    "}"
   ]
  },
  {
   "cell_type": "code",
   "execution_count": 9,
   "id": "bf4552d1-de4b-4d12-822e-36a4829bc2bf",
   "metadata": {},
   "outputs": [
    {
     "data": {
      "text/plain": [
       "\u001b[36mrssmodel\u001b[39m: \u001b[32mParseRSS\u001b[39m = ammonite.$sess.cmd7$Helper$ParseRSS@5dc597ac\n",
       "\u001b[36mjsonmodel\u001b[39m: \u001b[32mParseJSON\u001b[39m = ammonite.$sess.cmd7$Helper$ParseJSON@75edf494"
      ]
     },
     "execution_count": 9,
     "metadata": {},
     "output_type": "execute_result"
    }
   ],
   "source": [
    "val rssmodel = new ParseRSS\n",
    "val jsonmodel = new ParseJSON"
   ]
  },
  {
   "cell_type": "code",
   "execution_count": 10,
   "id": "36b576a7-df7a-44ae-954d-f3556e2cde31",
   "metadata": {
    "tags": []
   },
   "outputs": [
    {
     "data": {
      "text/plain": [
       "\u001b[36mrssresponsebody\u001b[39m: \u001b[32mString\u001b[39m = \u001b[32m\"\"\"<?xml version=\"1.0\" encoding=\"utf-8\"?>\n",
       "<rss version=\"2.0\" xmlns:atom=\"http://www.w3.org/2005/Atom\" xmlns:content=\"http://purl.org/rss/1.0/modules/content/\" xmlns:dc=\"http://purl.org/dc/elements/1.1/\" xmlns:media=\"http://search.yahoo.com/mrss/\" xmlns:sy=\"http://purl.org/rss/1.0/modules/syndication/\"><channel><title>Chicago Tribune</title><link>https://www.chicagotribune.com</link><language>en-US</language><copyright>© 2021 Chicago Tribune</copyright><atom:link href=\"https://www.chicagotribune.com/arcio/rss/category/sports/?query=display_date:%5Bnow-2d+TO+now%5D&amp;sort=display_date:desc\" rel=\"self\" type=\"application/rss+xml\"/><description>Chicago Tribune News Feed</description><lastBuildDate>Tue, 01 Jun 2021 22:35:52 +0000</lastBuildDate><ttl>1</ttl><sy:updatePeriod>hourly</sy:updatePeriod><sy:updateFrequency>1</sy:updateFrequency><item><title>NCAA athletes in Illinois could sign endorsement deals under bill passed by state lawmakers</title><link>https://www.chicagotribune.com/politics/ct-illinois-college-athletes-endorsement-deals-20210601-sqxgldeasrco7hnnr6ursfhmbe-story.html#ed=rss_www.chicagotribune.com/arcio/rss/category/sports/</link><guid isPermaLink=\"true\">https://www.chicagotribune.com/politics/ct-illinois-college-athletes-endorsement-deals-20210601-sqxgldeasrco7hnnr6ursfhmbe-story.html</guid><dc:creator>Bill Ruthhart</dc:creator><pubDate>Tue, 01 Jun 2021 21:05:22 +0000</pubDate><description>Illinois college athletes would be able to hire agents and sign endorsement deals starting this summer under legislation passed by state lawmakers.</description><content:encoded><![CDATA[<p>Illinois college athletes would be able to hire agents and sign endorsement deals starting this summer under legislation passed by state lawmakers.</p>]]></content:encoded><media:content type=\"image/jpeg\" url=\"https://www.chicagotribune.com/resizer/1nMuyb3f5W-aVWwrs0SA5eXNXR8=/cloudfront-us-east-1.images.arcpublishing.com/tronc/YELMUYWCCJGL5NQKHORPXQ6VXY.jpg\"><media:description type=\"plain\"><![CDATA[Rep. Kam Buckner, who played football at the University of Illinois, is sponsoring a bill to allow student athletes to get agents and endorsement deals.]]></media:description><media:credit role=\"author\" scheme=\"urn:ebu\"><![CDATA[HANDOUT]]></media:credit></media:content></item><item><title>José Abreu is named the American League Player of the Week after the Chicago White Sox first baseman had 10 RBIs in 7 games</title><link>https://www.chicagotribune.com/sports/white-sox/ct-chicago-white-sox-jose-abreu-20210601-42xzdxl3kvbixoyge3bytlecqy-story.html#ed=rss_www.chicagotribune.com/arcio/rss/category/sports/</link><guid isPermaLink=\"true\">https://www.chicagotribune.com/sports/white-sox/ct-chicago-white-sox-jose-abreu-20210601-42xzdxl3kvbixoyge3bytlecqy-story.html</guid><dc:creator>LaMond Pope</dc:creator><pubDate>Tue, 01 Jun 2021 20:37:13 +0000</pubDate><description>Chicago White Sox first baseman José Abreu earned American League Player of the Week honors for the Week of May 24-30 on Tuesday. It’s his sixth career weekly honor.</description><content:\u001b[39m...\n",
       "\u001b[36mjsonresponsebody\u001b[39m: \u001b[32mString\u001b[39m = \u001b[32m\"{\\\"kind\\\": \\\"Listing\\\", \\\"data\\\": {\\\"modhash\\\": \\\"\\\", \\\"dist\\\": 26, \\\"children\\\": [{\\\"kind\\\": \\\"t3\\\", \\\"data\\\": {\\\"approved_at_utc\\\": null, \\\"subreddit\\\": \\\"Android\\\", \\\"selftext\\\": \\\"Note 1. Join us at /r/MoronicMondayAndroid, a sub serving as a repository for our retired weekly threads. Just pick any thread and Ctrl-F your way to wisdom! \\\\n\\\\nNote 2. Join our IRC, and Telegram chat-rooms! [Please see our wiki for instructions.](https://www.reddit.com/r/Android/wiki/index#wiki_.2Fr.2Fandroid_chat_rooms)\\\\n\\\\nWe are trialing a weekly thread for support questions, device recommendations and general discussion based on the last feedback poll. This post will henceforth be posted on a Monday. Please post your questions here. Feel free to use this thread for general questions/discussion as well.\\\\n\\\\nPeople seeking to upgrade could also look at the resources below\\\\n\\\\n**Credits to the team at /r/PickAnAndroidForMe for compiling this information:**\\\\n\\\\n* Home - https://www.reddit.com/r/PickAnAndroidForMe/wiki/index\\\\n\\\\n* Smartphones 101 - https://www.reddit.com/r/PickAnAndroidForMe/wiki/smartphones101\\\\n\\\\n* Top Phones - https://www.reddit.com/r/PickAnAndroidForMe/wiki/phones\\\", \\\"author_fullname\\\": \\\"t2_p7o61\\\", \\\"saved\\\": false, \\\"mod_reason_title\\\": null, \\\"gilded\\\": 0, \\\"clicked\\\": false, \\\"title\\\": \\\"Weekly Superthread (Jun 01 2021) - Your weekly thread for questions, device recommendations and general discussions!\\\", \\\"link_flair_richtext\\\": [], \\\"subreddit_name_prefixed\\\": \\\"r/Android\\\", \\\"hidden\\\": false, \\\"pwls\\\": 6, \\\"link_flair_css_class\\\": null, \\\"downs\\\": 0, \\\"thumbnail_height\\\": null, \\\"top_awarded_type\\\": null, \\\"hide_score\\\": false, \\\"name\\\": \\\"t3_npscdy\\\", \\\"quarantine\\\": false, \\\"link_flair_text_color\\\": \\\"dark\\\", \\\"upvote_ratio\\\": 0.59, \\\"author_flair_background_color\\\": null, \\\"subreddit_type\\\": \\\"public\\\", \\\"ups\\\": 4, \\\"total_awards_received\\\": 0, \\\"media_embed\\\": {}, \\\"thumbnail_width\\\": null, \\\"author_flair_template_id\\\": null, \\\"is_original_content\\\": false, \\\"user_reports\\\": [], \\\"secure_media\\\": null, \\\"is_reddit_media_domain\\\": false, \\\"is_meta\\\": false, \\\"category\\\": null, \\\"secure_media_embed\\\": {}, \\\"link_flair_text\\\": null, \\\"can_mod_post\\\": false, \\\"score\\\": 4, \\\"approved_by\\\": null, \\\"is_created_from_ads_ui\\\": false, \\\"author_premium\\\": false, \\\"thumbnail\\\": \\\"self\\\", \\\"edited\\\": false, \\\"author_flair_css_class\\\": null, \\\"author_flair_richtext\\\": [], \\\"gildings\\\": {}, \\\"content_categories\\\": null, \\\"is_self\\\": true, \\\"mod_note\\\": null, \\\"created\\\": 1622577629.0, \\\"link_flair_type\\\": \\\"text\\\", \\\"wls\\\": 6, \\\"removed_by_category\\\": null, \\\"banned_by\\\": null, \\\"author_flair_type\\\": \\\"text\\\", \\\"domain\\\": \\\"self.Android\\\", \\\"allow_live_comments\\\": false, \\\"selftext_html\\\": \\\"&lt;!-- SC_OFF --&gt;&lt;div class=\\\\\\\"md\\\\\\\"&gt;&lt;p&gt;Note 1. Join us at &lt;a href=\\\\\\\"/r/MoronicMondayAndroid\\\\\\\"&gt;/r/MoronicMondayAndroid&lt;/a&gt;, a sub serving as a repository for our retired weekly threads. Just pick any thread and Ctrl-F your way to wisdom! &lt;/p&gt;\\\\n\\\\n&lt;p&gt;Note 2. Join our IRC, and Telegram chat-rooms! &lt;a href=\\\\\\\"https://www\u001b[39m..."
      ]
     },
     "execution_count": 10,
     "metadata": {},
     "output_type": "execute_result"
    }
   ],
   "source": [
    "val rssresponsebody = rssmodel.request(\"https://www.chicagotribune.com/arcio/rss/category/sports/?query=display_date:[now-2d+TO+now]&sort=display_date:desc\")\n",
    "val jsonresponsebody = jsonmodel.request(\"https://www.reddit.com/r/Android/hot/.json?count=10\")"
   ]
  },
  {
   "cell_type": "code",
   "execution_count": 11,
   "id": "301c5854-d0d2-4e2e-9b29-911d036de099",
   "metadata": {
    "tags": []
   },
   "outputs": [
    {
     "data": {
      "text/plain": [
       "\u001b[36mparsedrss\u001b[39m: \u001b[32mSeq\u001b[39m[\u001b[32mString\u001b[39m] = \u001b[33mList\u001b[39m(\n",
       "  \u001b[32m\"NCAA athletes in Illinois could sign endorsement deals under bill passed by state lawmakers Illinois college athletes would be able to hire agents and sign endorsement deals starting this summer under legislation passed by state lawmakers.\"\u001b[39m,\n",
       "  \u001b[32m\"Jos\\u00e9 Abreu is named the American League Player of the Week after the Chicago White Sox first baseman had 10 RBIs in 7 games Chicago White Sox first baseman Jos\\u00e9 Abreu earned American League Player of the Week honors for the Week of May 24-30 on Tuesday. It\\u2019s his sixth career weekly honor.\"\u001b[39m,\n",
       "  \u001b[32m\"Column: The future is now for Adbert Alzolay, the exuberant Chicago Cubs pitcher fast becoming a fan favorite The Chicago Cubs haven't had a starting pitching prospect break through since the rebuild began in 2012. Adbert Alzolay is ready to stop the streak.\"\u001b[39m,\n",
       "  \u001b[32m\"Japan\\u2019s vaccine push ahead of the Olympics looks to be too late and could \\u2018trigger a global spread of different variants of the virus\\u2019 Japan scrambles to catch up on a frustratingly slow vaccination drive less than two months before the Summer Olympics, delayed by a year because of the coronavirus pandemic, are scheduled to start.\"\u001b[39m,\n",
       "  \u001b[32m\"Naomi Osaka withdraws from the French Open and will take a break from competition: \\u2018Best thing for the tournament, the other players and my well-being\\u2019 Naomi Osaka wrote on Twitter on Monday that \\u201cthe best thing for the tournament\\u201d would be if she withdrew from the French Open.\"\u001b[39m,\n",
       "  \u001b[32m\"\\u2018Let\\u2019s see if we can make this bigger\\u2019: Black college basketball coaches are encouraged by a significant uptick in hires \\u2014 including 51% of offseason vacancies Black coaches are encouraged by what appears to be a significant uptick in hires in college basketball. And they\\u2019re cautiously buoyed not only by the numbers, but also by seemingly important changes in the range of candidates.\"\u001b[39m,\n",
       "  \u001b[32m\"\\u2018A prince of a man\\u2019: After the untimely death of NFL writer Vaughn McClure, a quest has begun to pay his generosity forward Vaughn McClure, an NFL reporter for ESPN and a former sportswriter at the Chicago Tribune, died in October from cardiac arrest. His loss was felt across the league. Now, the Vaughn McClure Foundation is hoping to raise money for causes that meant most to him.\"\u001b[39m,\n",
       "  \u001b[32m\"More NBA fan misbehavior: Spectator is tackled after running onto the court in Washington A fan was tackled after running onto the court during an NBA playoff game between the Washington Wizards and Philadelphia 76ers on Monday night, the latest example of unruly behavior as teams let more spectators in the stands during the pandemic.\"\u001b[39m,\n",
       "  \u001b[32m\"Atlanta Braves\\u2019 Marcell Ozuna released on $20,000 bond after charge of a\u001b[39m...\n",
       "\u001b[36mparsedjson\u001b[39m: \u001b[32mSeq\u001b[39m[\u001b[32mString\u001b[39m] = \u001b[33mList\u001b[39m(\n",
       "  \u001b[32m\"\"\"Note 1. Join us at /r/MoronicMondayAndroid, a sub serving as a repository for our retired weekly threads. Just pick any thread and Ctrl-F your way to wisdom! \n",
       "\n",
       "Note 2. Join our IRC, and Telegram chat-rooms! [Please see our wiki for instructions.]()\n",
       "\n",
       "We are trialing a weekly thread for support questions, device recommendations and general discussion based on the last feedback poll. This post will henceforth be posted on a Monday. Please post your questions here. Feel free to use this thread for general questions/discussion as well.\n",
       "\n",
       "People seeking to upgrade could also look at the resources below\n",
       "\n",
       "**Credits to the team at /r/PickAnAndroidForMe for compiling this information:**\n",
       "\n",
       "* Home - \n",
       "\n",
       "* Smartphones 101 - \n",
       "\n",
       "* Top Phones - \"\"\"\u001b[39m,\n",
       "  \u001b[32m\"Weekly Superthread (Jun 01 2021) - Your weekly thread for questions, device recommendations and general discussions!\"\u001b[39m,\n",
       "  \u001b[32m\"\"\u001b[39m,\n",
       "  \u001b[32m\"The unreleased HTC Pixel 2 XL \\\"muskie\\\" has appeared on eBay for 580 dollars\"\u001b[39m,\n",
       "  \u001b[32m\"\"\u001b[39m,\n",
       "  \u001b[32m\"It\\u2019s official! Flagship Exynos chip with AMD RDNA2 GPU is coming later this year\"\u001b[39m,\n",
       "  \u001b[32m\"\"\u001b[39m,\n",
       "  \u001b[32m\"Nearby Shares Comes to ChromeOS - Share with Android\"\u001b[39m,\n",
       "  \u001b[32m\"\"\u001b[39m,\n",
       "  \u001b[32m\"Easily Turn Your Fire Tablet Into A Real Android Tablet! HD10 HD7 HD8 | ETA PRIME\"\u001b[39m,\n",
       "  \u001b[32m\"\"\u001b[39m,\n",
       "  \u001b[32m\"Galaxy S21 Ultra S Pen experiment reportedly didn't pan out for Samsung\"\u001b[39m,\n",
       "  \u001b[32m\"\"\u001b[39m,\n",
       "  \u001b[32m\"SHIELD TV Streaming More Hit Shows with Apple TV | NVIDIA Blog\"\u001b[39m,\n",
       "..."
      ]
     },
     "execution_count": 11,
     "metadata": {},
     "output_type": "execute_result"
    }
   ],
   "source": [
    "val parsedrss = rssmodel.parseURL(rssresponsebody)\n",
    "val parsedjson = jsonmodel.parseURL(jsonresponsebody)"
   ]
  },
  {
   "cell_type": "code",
   "execution_count": 18,
   "id": "2c04c427-b189-450a-995a-a8aea59cf571",
   "metadata": {
    "tags": []
   },
   "outputs": [
    {
     "data": {
      "text/plain": [
       "defined \u001b[32mclass\u001b[39m \u001b[36mFeedService\u001b[39m"
      ]
     },
     "execution_count": 18,
     "metadata": {},
     "output_type": "execute_result"
    }
   ],
   "source": [
    "class FeedService[T <: ParseRSS]{\n",
    "    var urls: Seq[(String,T)] = Seq[(String,T)]()\n",
    "    def subscribe(urlTemplate: String,params: Seq[String],parser: T){ //ParseJSON\n",
    "        val pat = \"%s\".r\n",
    "        val urlparam = params.map {s => pat replaceAllIn(urlTemplate,s)}.map{url => (url,parser)}\n",
    "        urls = urls ++ urlparam\n",
    "    }\n",
    "    def getText(): Seq[String] = {\n",
    "        val texts = urls.map { url =>\n",
    "            val parser = url._2 //parser = ParseJSON\n",
    "            parser.parseURL(url._1)\n",
    "            \n",
    "        }\n",
    "        texts.map(_.mkString(\",\"))\n",
    "    }\n",
    "}\n"
   ]
  },
  {
   "cell_type": "code",
   "execution_count": 21,
   "id": "b8fda6cc-1c2c-4467-9266-add40e8ac180",
   "metadata": {
    "tags": []
   },
   "outputs": [
    {
     "data": {
      "text/plain": [
       "\u001b[36mfeed\u001b[39m: \u001b[32mFeedService\u001b[39m[\u001b[32mParseRSS\u001b[39m] = ammonite.$sess.cmd17$Helper$FeedService@45b5974e"
      ]
     },
     "execution_count": 21,
     "metadata": {},
     "output_type": "execute_result"
    }
   ],
   "source": [
    "val feed = new FeedService[ParseRSS]"
   ]
  },
  {
   "cell_type": "code",
   "execution_count": 22,
   "id": "9dfae10c-6a31-4f75-9b53-ac7e7a806dba",
   "metadata": {},
   "outputs": [],
   "source": [
    "feed.subscribe(\"https://www.chicagotribune.com/arcio/rss/category/%s/?query=display_date:[now-2d+TO+now]&sort=display_date:desc\",Seq(\"sports\",\"business\"),rssmodel)"
   ]
  },
  {
   "cell_type": "code",
   "execution_count": 23,
   "id": "e6bf9854-bd78-42e3-96bd-1df9d0b6f113",
   "metadata": {
    "tags": []
   },
   "outputs": [
    {
     "data": {
      "text/plain": [
       "\u001b[36mres22\u001b[39m: \u001b[32mSeq\u001b[39m[(\u001b[32mString\u001b[39m, \u001b[32mParseRSS\u001b[39m)] = \u001b[33mList\u001b[39m(\n",
       "  (\n",
       "    \u001b[32m\"https://www.chicagotribune.com/arcio/rss/category/sports/?query=display_date:[now-2d+TO+now]&sort=display_date:desc\"\u001b[39m,\n",
       "    ammonite.$sess.cmd13$Helper$ParseRSS@523dfd90\n",
       "  ),\n",
       "  (\n",
       "    \u001b[32m\"https://www.chicagotribune.com/arcio/rss/category/business/?query=display_date:[now-2d+TO+now]&sort=display_date:desc\"\u001b[39m,\n",
       "    ammonite.$sess.cmd13$Helper$ParseRSS@523dfd90\n",
       "  )\n",
       ")"
      ]
     },
     "execution_count": 23,
     "metadata": {},
     "output_type": "execute_result"
    }
   ],
   "source": [
    "feed.urls"
   ]
  },
  {
   "cell_type": "code",
   "execution_count": 21,
   "id": "ae8dd9df-226c-4360-bdab-fa54b2a8a532",
   "metadata": {},
   "outputs": [
    {
     "ename": "",
     "evalue": "",
     "output_type": "error",
     "traceback": [
      "\u001b[31morg.xml.sax.SAXParseException; lineNumber: 1; columnNumber: 1; El contenido no está permitido en el prólogo.\u001b[39m\n  com.sun.org.apache.xerces.internal.util.ErrorHandlerWrapper.createSAXParseException(\u001b[32mErrorHandlerWrapper.java\u001b[39m:\u001b[32m203\u001b[39m)\n  com.sun.org.apache.xerces.internal.util.ErrorHandlerWrapper.fatalError(\u001b[32mErrorHandlerWrapper.java\u001b[39m:\u001b[32m177\u001b[39m)\n  com.sun.org.apache.xerces.internal.impl.XMLErrorReporter.reportError(\u001b[32mXMLErrorReporter.java\u001b[39m:\u001b[32m400\u001b[39m)\n  com.sun.org.apache.xerces.internal.impl.XMLErrorReporter.reportError(\u001b[32mXMLErrorReporter.java\u001b[39m:\u001b[32m327\u001b[39m)\n  com.sun.org.apache.xerces.internal.impl.XMLScanner.reportFatalError(\u001b[32mXMLScanner.java\u001b[39m:\u001b[32m1473\u001b[39m)\n  com.sun.org.apache.xerces.internal.impl.XMLDocumentScannerImpl$PrologDriver.next(\u001b[32mXMLDocumentScannerImpl.java\u001b[39m:\u001b[32m994\u001b[39m)\n  com.sun.org.apache.xerces.internal.impl.XMLDocumentScannerImpl.next(\u001b[32mXMLDocumentScannerImpl.java\u001b[39m:\u001b[32m602\u001b[39m)\n  com.sun.org.apache.xerces.internal.impl.XMLDocumentFragmentScannerImpl.scanDocument(\u001b[32mXMLDocumentFragmentScannerImpl.java\u001b[39m:\u001b[32m505\u001b[39m)\n  com.sun.org.apache.xerces.internal.parsers.XML11Configuration.parse(\u001b[32mXML11Configuration.java\u001b[39m:\u001b[32m842\u001b[39m)\n  com.sun.org.apache.xerces.internal.parsers.XML11Configuration.parse(\u001b[32mXML11Configuration.java\u001b[39m:\u001b[32m771\u001b[39m)\n  com.sun.org.apache.xerces.internal.parsers.XMLParser.parse(\u001b[32mXMLParser.java\u001b[39m:\u001b[32m141\u001b[39m)\n  com.sun.org.apache.xerces.internal.parsers.AbstractSAXParser.parse(\u001b[32mAbstractSAXParser.java\u001b[39m:\u001b[32m1213\u001b[39m)\n  com.sun.org.apache.xerces.internal.jaxp.SAXParserImpl$JAXPSAXParser.parse(\u001b[32mSAXParserImpl.java\u001b[39m:\u001b[32m643\u001b[39m)\n  com.sun.org.apache.xerces.internal.jaxp.SAXParserImpl.parse(\u001b[32mSAXParserImpl.java\u001b[39m:\u001b[32m327\u001b[39m)\n  scala.xml.factory.XMLLoader$class.loadXML(\u001b[32mXMLLoader.scala\u001b[39m:\u001b[32m41\u001b[39m)\n  scala.xml.XML$.loadXML(\u001b[32mXML.scala\u001b[39m:\u001b[32m58\u001b[39m)\n  scala.xml.factory.XMLLoader$class.loadString(\u001b[32mXMLLoader.scala\u001b[39m:\u001b[32m60\u001b[39m)\n  scala.xml.XML$.loadString(\u001b[32mXML.scala\u001b[39m:\u001b[32m58\u001b[39m)\n  ammonite.$sess.cmd14$Helper$ParseRSS.parseURL(\u001b[32mcmd14.sc\u001b[39m:\u001b[32m7\u001b[39m)\n  ammonite.$sess.cmd16$Helper$FeedService$$anonfun$3.apply(\u001b[32mcmd16.sc\u001b[39m:\u001b[32m11\u001b[39m)\n  ammonite.$sess.cmd16$Helper$FeedService$$anonfun$3.apply(\u001b[32mcmd16.sc\u001b[39m:\u001b[32m9\u001b[39m)\n  scala.collection.TraversableLike$$anonfun$map$1.apply(\u001b[32mTraversableLike.scala\u001b[39m:\u001b[32m234\u001b[39m)\n  scala.collection.TraversableLike$$anonfun$map$1.apply(\u001b[32mTraversableLike.scala\u001b[39m:\u001b[32m234\u001b[39m)\n  scala.collection.immutable.List.foreach(\u001b[32mList.scala\u001b[39m:\u001b[32m392\u001b[39m)\n  scala.collection.TraversableLike$class.map(\u001b[32mTraversableLike.scala\u001b[39m:\u001b[32m234\u001b[39m)\n  scala.collection.immutable.List.map(\u001b[32mList.scala\u001b[39m:\u001b[32m296\u001b[39m)\n  ammonite.$sess.cmd16$Helper$FeedService.getText(\u001b[32mcmd16.sc\u001b[39m:\u001b[32m9\u001b[39m)\n  ammonite.$sess.cmd20$Helper.<init>(\u001b[32mcmd20.sc\u001b[39m:\u001b[32m1\u001b[39m)\n  ammonite.$sess.cmd20$.<init>(\u001b[32mcmd20.sc\u001b[39m:\u001b[32m7\u001b[39m)\n  ammonite.$sess.cmd20$.<clinit>(\u001b[32mcmd20.sc\u001b[39m:\u001b[32m-1\u001b[39m)"
     ]
    }
   ],
   "source": [
    "feed.getText"
   ]
  },
  {
   "cell_type": "markdown",
   "id": "initial-gambling",
   "metadata": {
    "tags": []
   },
   "source": [
    "## 2. Detectar las entidades nombradas"
   ]
  },
  {
   "cell_type": "markdown",
   "id": "portable-tender",
   "metadata": {},
   "source": [
    "### 2.1 Crear el modelo\n",
    "\n",
    "El **modelo** es sólo la función `getNEs`, que recibe una lista de textos.\n",
    "Para cada texto, se separa las palabras del texto usando los espacios, y considera que es una entidad nombrada si empieza con mayúscula."
   ]
  },
  {
   "cell_type": "markdown",
   "id": "charitable-experiment",
   "metadata": {},
   "source": [
    "Este código lista los signos de puntuación y algunas palabras comunes del inglés que se van a sacar del texto."
   ]
  },
  {
   "cell_type": "code",
   "execution_count": 13,
   "id": "b6f562e3-42b1-4527-b270-576519a0cb7f",
   "metadata": {},
   "outputs": [
    {
     "data": {
      "text/plain": [
       "defined \u001b[32mclass\u001b[39m \u001b[36mNERmodel\u001b[39m"
      ]
     },
     "execution_count": 13,
     "metadata": {},
     "output_type": "execute_result"
    }
   ],
   "source": [
    "class NERmodel{\n",
    "     val STOPWORDS = Seq (\n",
    "    \"i\", \"me\", \"my\", \"myself\", \"we\", \"our\", \"ours\", \"ourselves\", \"you\",\n",
    "    \"yours\", \"yourself\", \"yourselves\", \"he\", \"him\", \"his\", \"himself\", \"she\",\n",
    "    \"her\", \"hers\", \"herself\", \"it\", \"its\", \"itself\", \"they\", \"them\", \"your\",\n",
    "    \"their\", \"theirs\", \"themselves\", \"what\", \"which\", \"who\", \"whom\",\n",
    "    \"this\", \"that\", \"these\", \"those\", \"am\", \"is\", \"are\", \"was\", \"were\",\n",
    "    \"be\", \"been\", \"being\", \"have\", \"has\", \"had\", \"having\", \"do\", \"does\",\n",
    "    \"did\", \"doing\", \"a\", \"an\", \"the\", \"and\", \"but\", \"if\", \"or\",\n",
    "    \"because\", \"as\", \"until\", \"while\", \"of\", \"at\", \"by\", \"for\", \"with\",\n",
    "    \"about\", \"against\", \"between\", \"into\", \"through\", \"during\", \"before\",\n",
    "    \"after\", \"above\", \"below\", \"to\", \"from\", \"up\", \"down\", \"in\", \"out\",\n",
    "    \"off\", \"over\", \"under\", \"again\", \"further\", \"then\", \"once\", \"here\",\n",
    "    \"there\", \"when\", \"where\", \"why\", \"how\", \"all\", \"any\", \"both\", \"each\",\n",
    "    \"few\", \"more\", \"most\", \"other\", \"some\", \"such\", \"no\", \"nor\", \"not\",\n",
    "    \"only\", \"own\", \"same\", \"so\", \"than\", \"too\", \"very\", \"s\", \"t\", \"can\",\n",
    "    \"will\", \"just\", \"don\", \"should\", \"now\", \"on\",\n",
    "    // Contractions without '\n",
    "    \"im\", \"ive\", \"id\", \"Youre\", \"youd\", \"youve\",\n",
    "    \"hes\", \"hed\", \"shes\", \"shed\", \"itd\", \"were\", \"wed\", \"weve\",\n",
    "    \"theyre\", \"theyd\", \"theyve\",\n",
    "    \"shouldnt\", \"couldnt\", \"musnt\", \"cant\", \"wont\",\n",
    "    // Common uppercase words\n",
    "    \"hi\", \"hello\"\n",
    ")\n",
    "    val punctuationSymbols = \".,()!?;:'`´\\n\"\n",
    "    val punctuationRegex = \"\\\\\" + punctuationSymbols.split(\"\").mkString(\"|\\\\\")\n",
    "   \n",
    "    //Funciones que obtienen los valores\n",
    "    def getNEsSingle(text: String): Seq[String] =\n",
    "  text.replaceAll(punctuationRegex, \"\").split(\" \")\n",
    "    .filter { word:String => word.length > 1 &&\n",
    "              Character.isUpperCase(word.charAt(0)) &&\n",
    "              !STOPWORDS.contains(word.toLowerCase) }.toSeq\n",
    "\n",
    "    def getNEs(textList: Seq[String]): Seq[Seq[String]] = textList.map(getNEsSingle)\n",
    "    \n",
    "    //Aplicar pipeline\n",
    "    def ExtractNEs(rssText: Seq[String]): Seq[Seq[String]] ={\n",
    "            getNEs(rssText)\n",
    "    }\n",
    "    //Contar y ordenar\n",
    "    def SortNEs(result: Seq[Seq[String]]): List[(String, Int)]={\n",
    "        val counts: Map[String, Int] = result.flatten\n",
    "  .foldLeft(Map.empty[String, Int]) {\n",
    "     (count, word) => count + (word -> (count.getOrElse(word, 0) + 1)) }\n",
    "         counts.toList\n",
    "  .sortBy(_._2)(Ordering[Int].reverse)\n",
    "        \n",
    "    } \n",
    "}"
   ]
  },
  {
   "cell_type": "code",
   "execution_count": 14,
   "id": "854f81af-4230-4d23-96f5-c456a42af069",
   "metadata": {},
   "outputs": [
    {
     "data": {
      "text/plain": [
       "\u001b[36mmodel\u001b[39m: \u001b[32mNERmodel\u001b[39m = ammonite.$sess.cmd12$Helper$NERmodel@529d6a2c"
      ]
     },
     "execution_count": 14,
     "metadata": {},
     "output_type": "execute_result"
    }
   ],
   "source": [
    "val model = new NERmodel"
   ]
  },
  {
   "cell_type": "markdown",
   "id": "victorian-moderator",
   "metadata": {},
   "source": [
    "### 2.2 Aplicar el \"Modelo\" a los datos"
   ]
  },
  {
   "cell_type": "code",
   "execution_count": 15,
   "id": "educated-bronze",
   "metadata": {
    "tags": []
   },
   "outputs": [
    {
     "data": {
      "text/plain": [
       "\u001b[36mresultjson\u001b[39m: \u001b[32mSeq\u001b[39m[\u001b[32mSeq\u001b[39m[\u001b[32mString\u001b[39m]] = \u001b[33mList\u001b[39m(\n",
       "  \u001b[33mArrayBuffer\u001b[39m(\n",
       "    \u001b[32m\"Note\"\u001b[39m,\n",
       "    \u001b[32m\"Join\"\u001b[39m,\n",
       "    \u001b[32m\"Ctrl-F\"\u001b[39m,\n",
       "    \u001b[32m\"Note\"\u001b[39m,\n",
       "    \u001b[32m\"Join\"\u001b[39m,\n",
       "    \u001b[32m\"IRC\"\u001b[39m,\n",
       "    \u001b[32m\"Telegram\"\u001b[39m,\n",
       "    \u001b[32m\"Monday\"\u001b[39m,\n",
       "    \u001b[32m\"Please\"\u001b[39m,\n",
       "    \u001b[32m\"Feel\"\u001b[39m,\n",
       "    \u001b[32m\"Home\"\u001b[39m,\n",
       "    \u001b[32m\"Smartphones\"\u001b[39m,\n",
       "    \u001b[32m\"Top\"\u001b[39m,\n",
       "    \u001b[32m\"Phones\"\u001b[39m\n",
       "  ),\n",
       "  \u001b[33mArrayBuffer\u001b[39m(\u001b[32m\"Weekly\"\u001b[39m, \u001b[32m\"Superthread\"\u001b[39m, \u001b[32m\"Jun\"\u001b[39m),\n",
       "  \u001b[33mArrayBuffer\u001b[39m(),\n",
       "  \u001b[33mArrayBuffer\u001b[39m(\u001b[32m\"HTC\"\u001b[39m, \u001b[32m\"Pixel\"\u001b[39m, \u001b[32m\"XL\"\u001b[39m),\n",
       "  \u001b[33mArrayBuffer\u001b[39m(),\n",
       "  \u001b[33mArrayBuffer\u001b[39m(\u001b[32m\"It\\u2019s\"\u001b[39m, \u001b[32m\"Flagship\"\u001b[39m, \u001b[32m\"Exynos\"\u001b[39m, \u001b[32m\"AMD\"\u001b[39m, \u001b[32m\"RDNA2\"\u001b[39m, \u001b[32m\"GPU\"\u001b[39m),\n",
       "  \u001b[33mArrayBuffer\u001b[39m(),\n",
       "  \u001b[33mArrayBuffer\u001b[39m(\u001b[32m\"Nearby\"\u001b[39m, \u001b[32m\"Shares\"\u001b[39m, \u001b[32m\"Comes\"\u001b[39m, \u001b[32m\"ChromeOS\"\u001b[39m, \u001b[32m\"Share\"\u001b[39m, \u001b[32m\"Android\"\u001b[39m),\n",
       "  \u001b[33mArrayBuffer\u001b[39m(),\n",
       "  \u001b[33mArrayBuffer\u001b[39m(\n",
       "    \u001b[32m\"Easily\"\u001b[39m,\n",
       "    \u001b[32m\"Turn\"\u001b[39m,\n",
       "    \u001b[32m\"Fire\"\u001b[39m,\n",
       "    \u001b[32m\"Tablet\"\u001b[39m,\n",
       "    \u001b[32m\"Real\"\u001b[39m,\n",
       "    \u001b[32m\"Android\"\u001b[39m,\n",
       "    \u001b[32m\"Tablet\"\u001b[39m,\n",
       "    \u001b[32m\"HD10\"\u001b[39m,\n",
       "    \u001b[32m\"HD7\"\u001b[39m,\n",
       "    \u001b[32m\"HD8\"\u001b[39m,\n",
       "    \u001b[32m\"ETA\"\u001b[39m,\n",
       "    \u001b[32m\"PRIME\"\u001b[39m\n",
       "  ),\n",
       "...\n",
       "\u001b[36mresultrss\u001b[39m: \u001b[32mSeq\u001b[39m[\u001b[32mSeq\u001b[39m[\u001b[32mString\u001b[39m]] = \u001b[33mList\u001b[39m(\n",
       "  \u001b[33mArrayBuffer\u001b[39m(\u001b[32m\"NCAA\"\u001b[39m, \u001b[32m\"Illinois\"\u001b[39m, \u001b[32m\"Illinois\"\u001b[39m),\n",
       "  \u001b[33mArrayBuffer\u001b[39m(\n",
       "    \u001b[32m\"Jos\\u00e9\"\u001b[39m,\n",
       "    \u001b[32m\"Abreu\"\u001b[39m,\n",
       "    \u001b[32m\"American\"\u001b[39m,\n",
       "    \u001b[32m\"League\"\u001b[39m,\n",
       "    \u001b[32m\"Player\"\u001b[39m,\n",
       "    \u001b[32m\"Week\"\u001b[39m,\n",
       "    \u001b[32m\"Chicago\"\u001b[39m,\n",
       "    \u001b[32m\"White\"\u001b[39m,\n",
       "    \u001b[32m\"Sox\"\u001b[39m,\n",
       "    \u001b[32m\"RBIs\"\u001b[39m,\n",
       "    \u001b[32m\"Chicago\"\u001b[39m,\n",
       "    \u001b[32m\"White\"\u001b[39m,\n",
       "    \u001b[32m\"Sox\"\u001b[39m,\n",
       "    \u001b[32m\"Jos\\u00e9\"\u001b[39m,\n",
       "    \u001b[32m\"Abreu\"\u001b[39m,\n",
       "    \u001b[32m\"American\"\u001b[39m,\n",
       "    \u001b[32m\"League\"\u001b[39m,\n",
       "    \u001b[32m\"Player\"\u001b[39m,\n",
       "    \u001b[32m\"Week\"\u001b[39m,\n",
       "    \u001b[32m\"Week\"\u001b[39m,\n",
       "    \u001b[32m\"May\"\u001b[39m,\n",
       "    \u001b[32m\"Tuesday\"\u001b[39m,\n",
       "    \u001b[32m\"It\\u2019s\"\u001b[39m\n",
       "  ),\n",
       "  \u001b[33mArrayBuffer\u001b[39m(\n",
       "    \u001b[32m\"Column\"\u001b[39m,\n",
       "    \u001b[32m\"Adbert\"\u001b[39m,\n",
       "    \u001b[32m\"Alzolay\"\u001b[39m,\n",
       "    \u001b[32m\"Chicago\"\u001b[39m,\n",
       "    \u001b[32m\"Cubs\"\u001b[39m,\n",
       "    \u001b[32m\"Chicago\"\u001b[39m,\n",
       "    \u001b[32m\"Cubs\"\u001b[39m,\n",
       "    \u001b[32m\"Adbert\"\u001b[39m,\n",
       "    \u001b[32m\"Alzolay\"\u001b[39m\n",
       "  ),\n",
       "  \u001b[33mArrayBuffer\u001b[39m(\u001b[32m\"Japan\\u2019s\"\u001b[39m, \u001b[32m\"Olympics\"\u001b[39m, \u001b[32m\"Japan\"\u001b[39m, \u001b[32m\"Summer\"\u001b[39m, \u001b[32m\"Olympics\"\u001b[39m),\n",
       "..."
      ]
     },
     "execution_count": 15,
     "metadata": {},
     "output_type": "execute_result"
    }
   ],
   "source": [
    "val resultjson = model.ExtractNEs(parsedjson)\n",
    "val resultrss = model.ExtractNEs(parsedrss)"
   ]
  },
  {
   "cell_type": "markdown",
   "id": "located-cookbook",
   "metadata": {
    "tags": []
   },
   "source": [
    "## 3. Contar y ordenar las entidades\n",
    "\n",
    "Concatenar todas las listas, contar cada Named Entity, y luego ordernar por frecuencia"
   ]
  },
  {
   "cell_type": "code",
   "execution_count": 16,
   "id": "dynamic-nickel",
   "metadata": {
    "tags": []
   },
   "outputs": [
    {
     "data": {
      "text/plain": [
       "\u001b[36msortedNEsjson\u001b[39m: \u001b[32mList\u001b[39m[(\u001b[32mString\u001b[39m, \u001b[32mInt\u001b[39m)] = \u001b[33mList\u001b[39m(\n",
       "  (\u001b[32m\"Android\"\u001b[39m, \u001b[32m10\u001b[39m),\n",
       "  (\u001b[32m\"Google\"\u001b[39m, \u001b[32m9\u001b[39m),\n",
       "  (\u001b[32m\"Note\"\u001b[39m, \u001b[32m5\u001b[39m),\n",
       "  (\u001b[32m\"Join\"\u001b[39m, \u001b[32m5\u001b[39m),\n",
       "  (\u001b[32m\"Samsung\"\u001b[39m, \u001b[32m3\u001b[39m),\n",
       "  (\u001b[32m\"Telegram\"\u001b[39m, \u001b[32m3\u001b[39m),\n",
       "  (\u001b[32m\"IRC\"\u001b[39m, \u001b[32m3\u001b[39m),\n",
       "  (\u001b[32m\"Please\"\u001b[39m, \u001b[32m2\u001b[39m),\n",
       "  (\u001b[32m\"OTA-Package\"\u001b[39m, \u001b[32m2\u001b[39m),\n",
       "  (\u001b[32m\"Xperia\"\u001b[39m, \u001b[32m2\u001b[39m),\n",
       "  (\u001b[32m\"Tablet\"\u001b[39m, \u001b[32m2\u001b[39m),\n",
       "  (\u001b[32m\"Ctrl-F\"\u001b[39m, \u001b[32m2\u001b[39m),\n",
       "  (\u001b[32m\"ETA\"\u001b[39m, \u001b[32m2\u001b[39m),\n",
       "  (\u001b[32m\"AMOLED\"\u001b[39m, \u001b[32m2\u001b[39m),\n",
       "  (\u001b[32m\"Monday\"\u001b[39m, \u001b[32m2\u001b[39m),\n",
       "  (\u001b[32m\"Yes\"\u001b[39m, \u001b[32m2\u001b[39m),\n",
       "  (\u001b[32m\"May\"\u001b[39m, \u001b[32m2\u001b[39m),\n",
       "  (\u001b[32m\"III\"\u001b[39m, \u001b[32m2\u001b[39m),\n",
       "  (\u001b[32m\"Nexus\"\u001b[39m, \u001b[32m2\u001b[39m),\n",
       "  (\u001b[32m\"Sunday\"\u001b[39m, \u001b[32m2\u001b[39m),\n",
       "  (\u001b[32m\"Fire\"\u001b[39m, \u001b[32m2\u001b[39m),\n",
       "  (\u001b[32m\"Wear\"\u001b[39m, \u001b[32m2\u001b[39m),\n",
       "  (\u001b[32m\"PRIME\"\u001b[39m, \u001b[32m2\u001b[39m),\n",
       "  (\u001b[32m\"OS\"\u001b[39m, \u001b[32m2\u001b[39m),\n",
       "  (\u001b[32m\"New\"\u001b[39m, \u001b[32m2\u001b[39m),\n",
       "  (\u001b[32m\"Sony\"\u001b[39m, \u001b[32m2\u001b[39m),\n",
       "  (\u001b[32m\"Recovery\"\u001b[39m, \u001b[32m2\u001b[39m),\n",
       "  (\u001b[32m\"TV\"\u001b[39m, \u001b[32m2\u001b[39m),\n",
       "  (\u001b[32m\"Advertisement\"\u001b[39m, \u001b[32m1\u001b[39m),\n",
       "  (\u001b[32m\"Dimensity\"\u001b[39m, \u001b[32m1\u001b[39m),\n",
       "  (\u001b[32m\"Comes\"\u001b[39m, \u001b[32m1\u001b[39m),\n",
       "  (\u001b[32m\"LG\"\u001b[39m, \u001b[32m1\u001b[39m),\n",
       "  (\u001b[32m\"Facebook\\u2019s\"\u001b[39m, \u001b[32m1\u001b[39m),\n",
       "  (\u001b[32m\"Chinese\"\u001b[39m, \u001b[32m1\u001b[39m),\n",
       "  (\u001b[32m\"ROM\"\u001b[39m, \u001b[32m1\u001b[39m),\n",
       "  (\u001b[32m\"HD7\"\u001b[39m, \u001b[32m1\u001b[39m),\n",
       "  (\u001b[32m\"SHIELD\"\u001b[39m, \u001b[32m1\u001b[39m),\n",
       "  (\u001b[32m\"Disagree\"\u001b[39m, \u001b[32m1\u001b[39m),\n",
       "...\n",
       "\u001b[36msortedNEsrss\u001b[39m: \u001b[32mList\u001b[39m[(\u001b[32mString\u001b[39m, \u001b[32mInt\u001b[39m)] = \u001b[33mList\u001b[39m(\n",
       "  (\u001b[32m\"Chicago\"\u001b[39m, \u001b[32m23\u001b[39m),\n",
       "  (\u001b[32m\"Sox\"\u001b[39m, \u001b[32m12\u001b[39m),\n",
       "  (\u001b[32m\"Cubs\"\u001b[39m, \u001b[32m12\u001b[39m),\n",
       "  (\u001b[32m\"White\"\u001b[39m, \u001b[32m10\u001b[39m),\n",
       "  (\u001b[32m\"Monday\"\u001b[39m, \u001b[32m5\u001b[39m),\n",
       "  (\u001b[32m\"Naomi\"\u001b[39m, \u001b[32m4\u001b[39m),\n",
       "  (\u001b[32m\"Open\"\u001b[39m, \u001b[32m4\u001b[39m),\n",
       "  (\u001b[32m\"French\"\u001b[39m, \u001b[32m4\u001b[39m),\n",
       "  (\u001b[32m\"Padres\"\u001b[39m, \u001b[32m3\u001b[39m),\n",
       "  (\u001b[32m\"Sky\"\u001b[39m, \u001b[32m3\u001b[39m),\n",
       "  (\u001b[32m\"Irving\"\u001b[39m, \u001b[32m3\u001b[39m),\n",
       "  (\u001b[32m\"May\"\u001b[39m, \u001b[32m3\u001b[39m),\n",
       "  (\u001b[32m\"Vaughn\"\u001b[39m, \u001b[32m3\u001b[39m),\n",
       "  (\u001b[32m\"Week\"\u001b[39m, \u001b[32m3\u001b[39m),\n",
       "  (\u001b[32m\"McClure\"\u001b[39m, \u001b[32m3\u001b[39m),\n",
       "  (\u001b[32m\"Sunday\"\u001b[39m, \u001b[32m3\u001b[39m),\n",
       "  (\u001b[32m\"Williams\"\u001b[39m, \u001b[32m3\u001b[39m),\n",
       "  (\u001b[32m\"Kohl\"\u001b[39m, \u001b[32m2\u001b[39m),\n",
       "  (\u001b[32m\"Stefanie\"\u001b[39m, \u001b[32m2\u001b[39m),\n",
       "  (\u001b[32m\"Dolson\"\u001b[39m, \u001b[32m2\u001b[39m),\n",
       "  (\u001b[32m\"Atlanta\"\u001b[39m, \u001b[32m2\u001b[39m),\n",
       "  (\u001b[32m\"Bote\"\u001b[39m, \u001b[32m2\u001b[39m),\n",
       "  (\u001b[32m\"Player\"\u001b[39m, \u001b[32m2\u001b[39m),\n",
       "  (\u001b[32m\"Giolito\"\u001b[39m, \u001b[32m2\u001b[39m),\n",
       "  (\u001b[32m\"Column\"\u001b[39m, \u001b[32m2\u001b[39m),\n",
       "  (\u001b[32m\"Washington\"\u001b[39m, \u001b[32m2\u001b[39m),\n",
       "  (\u001b[32m\"Osaka\"\u001b[39m, \u001b[32m2\u001b[39m),\n",
       "  (\u001b[32m\"Lucas\"\u001b[39m, \u001b[32m2\u001b[39m),\n",
       "  (\u001b[32m\"Serena\"\u001b[39m, \u001b[32m2\u001b[39m),\n",
       "  (\u001b[32m\"Boston\"\u001b[39m, \u001b[32m2\u001b[39m),\n",
       "  (\u001b[32m\"Olympic\"\u001b[39m, \u001b[32m2\u001b[39m),\n",
       "  (\u001b[32m\"Invitational\"\u001b[39m, \u001b[32m2\u001b[39m),\n",
       "  (\u001b[32m\"Celtics\"\u001b[39m, \u001b[32m2\u001b[39m),\n",
       "  (\u001b[32m\"Cubs\\u2019\"\u001b[39m, \u001b[32m2\u001b[39m),\n",
       "  (\u001b[32m\"Scholars\"\u001b[39m, \u001b[32m2\u001b[39m),\n",
       "  (\u001b[32m\"Black\"\u001b[39m, \u001b[32m2\u001b[39m),\n",
       "  (\u001b[32m\"Brooklyn\"\u001b[39m, \u001b[32m2\u001b[39m),\n",
       "  (\u001b[32m\"Jos\\u00e9\"\u001b[39m, \u001b[32m2\u001b[39m),\n",
       "..."
      ]
     },
     "execution_count": 16,
     "metadata": {},
     "output_type": "execute_result"
    }
   ],
   "source": [
    "val sortedNEsjson = model.SortNEs(resultjson)\n",
    "val sortedNEsrss = model.SortNEs(resultrss)"
   ]
  },
  {
   "cell_type": "code",
   "execution_count": null,
   "id": "racial-learning",
   "metadata": {
    "tags": []
   },
   "outputs": [],
   "source": []
  }
 ],
 "metadata": {
  "kernelspec": {
   "display_name": "Scala",
   "language": "scala",
   "name": "scala"
  },
  "language_info": {
   "codemirror_mode": "text/x-scala",
   "file_extension": ".scala",
   "mimetype": "text/x-scala",
   "name": "scala",
   "nbconvert_exporter": "script",
   "version": "2.11.12"
  },
  "toc-autonumbering": false,
  "toc-showcode": true
 },
 "nbformat": 4,
 "nbformat_minor": 5
}
